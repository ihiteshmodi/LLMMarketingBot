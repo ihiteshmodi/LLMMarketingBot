{
 "cells": [
  {
   "cell_type": "code",
   "execution_count": 1,
   "id": "203c7dea",
   "metadata": {},
   "outputs": [],
   "source": [
    "#Importing necessary models\n",
    "from langchain.llms import Ollama\n",
    "from langchain.chains import RetrievalQA\n",
    "from langchain.chains import ConversationalRetrievalChain\n",
    "from langchain.vectorstores import FAISS\n",
    "from langchain.embeddings import HuggingFaceEmbeddings\n",
    "from langchain_community.document_loaders import PyPDFLoader\n",
    "from langchain.text_splitter import RecursiveCharacterTextSplitter"
   ]
  },
  {
   "cell_type": "code",
   "execution_count": 2,
   "id": "ea8dc937",
   "metadata": {},
   "outputs": [
    {
     "name": "stderr",
     "output_type": "stream",
     "text": [
      "/var/folders/hv/3fk9wmx12gs74mp51cnpmhw80000gq/T/ipykernel_11061/3995383221.py:2: LangChainDeprecationWarning: The class `Ollama` was deprecated in LangChain 0.3.1 and will be removed in 1.0.0. An updated version of the class exists in the :class:`~langchain-ollama package and should be used instead. To use it run `pip install -U :class:`~langchain-ollama` and import as `from :class:`~langchain_ollama import OllamaLLM``.\n",
      "  llm = Ollama(model=\"gemma3:4b\")\n"
     ]
    }
   ],
   "source": [
    "#loading our mistral model\n",
    "llm = Ollama(model=\"gemma3:4b\")"
   ]
  },
  {
   "cell_type": "code",
   "execution_count": 3,
   "id": "f5901d9e",
   "metadata": {},
   "outputs": [],
   "source": [
    "filepath = [\"/Users/hitesh.modi/Desktop/Kinda Personal/LLM Marketing Bot/Robert Greene - The 48 Laws Of Power-Viking Penguin Group (2000).pdf\"]"
   ]
  },
  {
   "cell_type": "code",
   "execution_count": 4,
   "id": "050c924a",
   "metadata": {},
   "outputs": [],
   "source": [
    "async def read_pdfs_into_pages(filepaths):\n",
    "    pages = []\n",
    "    for filepath in filepaths:\n",
    "        loader = PyPDFLoader(filepath)\n",
    "        async for page in loader.alazy_load():\n",
    "            pages.append(page)\n",
    "    return pages"
   ]
  },
  {
   "cell_type": "code",
   "execution_count": 5,
   "id": "d7c2410d",
   "metadata": {},
   "outputs": [],
   "source": [
    "def split_pages(pages):\n",
    "    text_splitter = RecursiveCharacterTextSplitter(\n",
    "    chunk_size=500,\n",
    "    chunk_overlap=100,\n",
    "    separators=[\"\\n\\n\", \"\\n\", \" \", \"\"]\n",
    "    )\n",
    "\n",
    "    docs = text_splitter.split_documents(pages)\n",
    "    return docs"
   ]
  },
  {
   "cell_type": "code",
   "execution_count": 6,
   "id": "bc310bdc",
   "metadata": {},
   "outputs": [],
   "source": [
    "def create_faiss_embeddings(docs):\n",
    "    #All have been splitted correctly, now time to load embeddings creator\n",
    "    embedding = HuggingFaceEmbeddings(\n",
    "    model_name=\"all-MiniLM-L6-v2\"\n",
    "    )   \n",
    "    embeddings = FAISS.from_documents(docs, embedding)\n",
    "    return embeddings"
   ]
  },
  {
   "cell_type": "code",
   "execution_count": 7,
   "id": "d9864eef",
   "metadata": {},
   "outputs": [],
   "source": [
    "def get_answers_from_FAISS_usingllm(FAISS_embeddings, query):\n",
    "    qa_chain = RetrievalQA.from_chain_type(\n",
    "    llm=llm,\n",
    "    retriever=FAISS_embeddings.as_retriever(search_kwargs={\"k\": 3}),\n",
    "    return_source_documents=True\n",
    ")\n",
    "\n",
    "    return(qa_chain.invoke(query))"
   ]
  },
  {
   "cell_type": "code",
   "execution_count": 10,
   "id": "db95ce89",
   "metadata": {},
   "outputs": [],
   "source": [
    "book = await read_pdfs_into_pages(filepath)"
   ]
  },
  {
   "cell_type": "code",
   "execution_count": 12,
   "id": "58afc95d",
   "metadata": {},
   "outputs": [],
   "source": [
    "book_split = split_pages(book)"
   ]
  },
  {
   "cell_type": "code",
   "execution_count": 13,
   "id": "8c9bcb6b",
   "metadata": {},
   "outputs": [
    {
     "name": "stderr",
     "output_type": "stream",
     "text": [
      "/var/folders/hv/3fk9wmx12gs74mp51cnpmhw80000gq/T/ipykernel_11061/2915709159.py:3: LangChainDeprecationWarning: The class `HuggingFaceEmbeddings` was deprecated in LangChain 0.2.2 and will be removed in 1.0. An updated version of the class exists in the :class:`~langchain-huggingface package and should be used instead. To use it run `pip install -U :class:`~langchain-huggingface` and import as `from :class:`~langchain_huggingface import HuggingFaceEmbeddings``.\n",
      "  embedding = HuggingFaceEmbeddings(\n",
      "/Users/hitesh.modi/Desktop/Kinda Personal/LLM Marketing Bot/marketingvm/lib/python3.10/site-packages/tqdm/auto.py:21: TqdmWarning: IProgress not found. Please update jupyter and ipywidgets. See https://ipywidgets.readthedocs.io/en/stable/user_install.html\n",
      "  from .autonotebook import tqdm as notebook_tqdm\n"
     ]
    }
   ],
   "source": [
    "book_embeddings = create_faiss_embeddings(book_split)"
   ]
  },
  {
   "cell_type": "code",
   "execution_count": 14,
   "id": "6d3d080e",
   "metadata": {},
   "outputs": [
    {
     "name": "stdout",
     "output_type": "stream",
     "text": [
      "{'query': '\\nHow many chapters are there int he book 48 laws of power? what are the names of the chapters?\\n', 'result': 'The text doesn’t state the number of chapters or their names. It only mentions “The 48 Laws of Power.”', 'source_documents': [Document(id='018c4f6c-58ba-4669-9a68-856d2f6e0b47', metadata={'producer': 'PyPDF', 'creator': 'PyPDF', 'creationdate': '', 'source': '/Users/hitesh.modi/Desktop/Kinda Personal/LLM Marketing Bot/Robert Greene - The 48 Laws Of Power-Viking Penguin Group (2000).pdf', 'total_pages': 476, 'page': 22, 'page_label': '23'}, page_content='the 48 laws in the table of contents, you can identify the pertinent law.\\nFinally, the book can be browsed through and picked apart for enter-\\ntainrnent. for an enjoyable ride through the foibles and great deeds of our\\npredecessors in power. A warning, however, to those who use the book for\\nthis purpose: It might be better to tum back. Power is endlessly seductive\\nand deceptive in its own way. It is a 1abyrinth—your mind becomes con-'), Document(id='fbfd9258-64a7-431a-aee2-da9313013303', metadata={'producer': 'PyPDF', 'creator': 'PyPDF', 'creationdate': '', 'source': '/Users/hitesh.modi/Desktop/Kinda Personal/LLM Marketing Bot/Robert Greene - The 48 Laws Of Power-Viking Penguin Group (2000).pdf', 'total_pages': 476, 'page': 1, 'page_label': '2'}, page_content='THE 48 LAWS OF POWER'), Document(id='b8366c40-84ad-411a-b427-ff7045bdba89', metadata={'producer': 'PyPDF', 'creator': 'PyPDF', 'creationdate': '', 'source': '/Users/hitesh.modi/Desktop/Kinda Personal/LLM Marketing Bot/Robert Greene - The 48 Laws Of Power-Viking Penguin Group (2000).pdf', 'total_pages': 476, 'page': 21, 'page_label': '22'}, page_content='observances are illustrated by historical examples. The laws are timeless\\nand definitive.\\nT7ze 48 Laws ofPower can be used in several ways. By reading the book\\nstraight through you can learn about power in general. Although several of\\nthe laws may seem not to pertain directly to your life, in time you will')]}\n"
     ]
    }
   ],
   "source": [
    "question = \"\"\"\n",
    "How many chapters are there int he book 48 laws of power? what are the names of the chapters?\n",
    "\"\"\"\n",
    "response = get_answers_from_FAISS_usingllm(book_embeddings, question)\n",
    "print(response)"
   ]
  },
  {
   "cell_type": "code",
   "execution_count": null,
   "id": "0f109e54",
   "metadata": {},
   "outputs": [],
   "source": []
  }
 ],
 "metadata": {
  "kernelspec": {
   "display_name": "marketingvm",
   "language": "python",
   "name": "python3"
  },
  "language_info": {
   "codemirror_mode": {
    "name": "ipython",
    "version": 3
   },
   "file_extension": ".py",
   "mimetype": "text/x-python",
   "name": "python",
   "nbconvert_exporter": "python",
   "pygments_lexer": "ipython3",
   "version": "3.10.11"
  }
 },
 "nbformat": 4,
 "nbformat_minor": 5
}
